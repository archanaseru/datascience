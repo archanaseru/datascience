{
  "nbformat": 4,
  "nbformat_minor": 0,
  "metadata": {
    "colab": {
      "provenance": [],
      "include_colab_link": true
    },
    "kernelspec": {
      "name": "python3",
      "display_name": "Python 3"
    },
    "language_info": {
      "name": "python"
    }
  },
  "cells": [
    {
      "cell_type": "markdown",
      "metadata": {
        "id": "view-in-github",
        "colab_type": "text"
      },
      "source": [
        "<a href=\"https://colab.research.google.com/github/archanaseru/datascience/blob/main/stat4.ipynb\" target=\"_parent\"><img src=\"https://colab.research.google.com/assets/colab-badge.svg\" alt=\"Open In Colab\"/></a>"
      ]
    },
    {
      "cell_type": "code",
      "execution_count": null,
      "metadata": {
        "id": "NybvD_mPgmJf"
      },
      "outputs": [],
      "source": []
    },
    {
      "cell_type": "code",
      "source": [
        "name = ['aa','bb','cc','dd',]\n",
        "age = [12,20,30,40,25]\n",
        "print(len(name))\n",
        "print(len(age))"
      ],
      "metadata": {
        "colab": {
          "base_uri": "https://localhost:8080/"
        },
        "id": "-h9saGyehr7L",
        "outputId": "5a986b32-4b0a-43e8-9e07-7107a75ba26e"
      },
      "execution_count": null,
      "outputs": [
        {
          "output_type": "stream",
          "name": "stdout",
          "text": [
            "4\n",
            "5\n"
          ]
        }
      ]
    },
    {
      "cell_type": "code",
      "source": [
        "info = {\n",
        "    \"name\" : name ,\n",
        "    \"age\" : age\n",
        "}"
      ],
      "metadata": {
        "id": "_GrrvpZjiUgm"
      },
      "execution_count": null,
      "outputs": []
    },
    {
      "cell_type": "code",
      "source": [
        "info [\"name\"]"
      ],
      "metadata": {
        "colab": {
          "base_uri": "https://localhost:8080/"
        },
        "id": "cuX0eW2ojWCd",
        "outputId": "27207977-0674-4c9e-8811-d28617ee8758"
      },
      "execution_count": null,
      "outputs": [
        {
          "output_type": "execute_result",
          "data": {
            "text/plain": [
              "['aa', 'bb', 'cc', 'dd']"
            ]
          },
          "metadata": {},
          "execution_count": 7
        }
      ]
    },
    {
      "cell_type": "code",
      "source": [
        "type(info)"
      ],
      "metadata": {
        "colab": {
          "base_uri": "https://localhost:8080/"
        },
        "id": "SGzLjdm5kPGL",
        "outputId": "fe3214d0-d1df-4041-f9f6-881855960c5d"
      },
      "execution_count": null,
      "outputs": [
        {
          "output_type": "execute_result",
          "data": {
            "text/plain": [
              "dict"
            ]
          },
          "metadata": {},
          "execution_count": 8
        }
      ]
    },
    {
      "cell_type": "code",
      "source": [
        "len(info)"
      ],
      "metadata": {
        "colab": {
          "base_uri": "https://localhost:8080/"
        },
        "id": "7ymfjUMsjjYD",
        "outputId": "fbfd569d-4aa0-4a17-eb6f-4a9867f865a3"
      },
      "execution_count": null,
      "outputs": [
        {
          "output_type": "execute_result",
          "data": {
            "text/plain": [
              "2"
            ]
          },
          "metadata": {},
          "execution_count": 5
        }
      ]
    },
    {
      "cell_type": "code",
      "source": [
        "info['age']"
      ],
      "metadata": {
        "colab": {
          "base_uri": "https://localhost:8080/"
        },
        "id": "78kiWuhTkSpc",
        "outputId": "0961d9b6-0feb-4b3a-901d-e2df57854737"
      },
      "execution_count": null,
      "outputs": [
        {
          "output_type": "execute_result",
          "data": {
            "text/plain": [
              "[12, 20, 30, 40, 25]"
            ]
          },
          "metadata": {},
          "execution_count": 9
        }
      ]
    },
    {
      "cell_type": "code",
      "source": [
        "info.(\"keys\")\n"
      ],
      "metadata": {
        "colab": {
          "base_uri": "https://localhost:8080/",
          "height": 106
        },
        "id": "qLe2EkYkl6q8",
        "outputId": "2f214024-744e-49c9-e3a6-622d81197f02"
      },
      "execution_count": null,
      "outputs": [
        {
          "output_type": "error",
          "ename": "SyntaxError",
          "evalue": "invalid syntax (<ipython-input-14-e88eb8403fbb>, line 1)",
          "traceback": [
            "\u001b[0;36m  File \u001b[0;32m\"<ipython-input-14-e88eb8403fbb>\"\u001b[0;36m, line \u001b[0;32m1\u001b[0m\n\u001b[0;31m    info.(\"keys\")\u001b[0m\n\u001b[0m         ^\u001b[0m\n\u001b[0;31mSyntaxError\u001b[0m\u001b[0;31m:\u001b[0m invalid syntax\n"
          ]
        }
      ]
    },
    {
      "cell_type": "code",
      "source": [
        "data = {\n",
        "    'A' : [1,2,3,100,5]\n",
        "}"
      ],
      "metadata": {
        "id": "0fSmarucoVym"
      },
      "execution_count": null,
      "outputs": []
    },
    {
      "cell_type": "code",
      "source": [
        "import pandas as pd"
      ],
      "metadata": {
        "id": "sRhY0JzYpnpU"
      },
      "execution_count": null,
      "outputs": []
    },
    {
      "cell_type": "code",
      "source": [
        "data = {\n",
        "    'A' : [1, 2, 3, 100, 5]\n",
        "}"
      ],
      "metadata": {
        "id": "0ZNsCSZ6psfT"
      },
      "execution_count": null,
      "outputs": []
    },
    {
      "cell_type": "code",
      "source": [
        "df = pd.DataFrame(data)\n",
        "print(df)"
      ],
      "metadata": {
        "colab": {
          "base_uri": "https://localhost:8080/"
        },
        "id": "wpKMrLoXqA0r",
        "outputId": "7df2e797-ee87-40e1-f3ab-0a1983b95a23"
      },
      "execution_count": null,
      "outputs": [
        {
          "output_type": "stream",
          "name": "stdout",
          "text": [
            "     A\n",
            "0    1\n",
            "1    2\n",
            "2    3\n",
            "3  100\n",
            "4    5\n"
          ]
        }
      ]
    },
    {
      "cell_type": "code",
      "source": [
        "df['mean'] = df['A'].mean()\n",
        "print(df)"
      ],
      "metadata": {
        "colab": {
          "base_uri": "https://localhost:8080/"
        },
        "id": "pU1B743RqgR6",
        "outputId": "34c809bf-02ae-40b6-b940-36b8c18cfb84"
      },
      "execution_count": null,
      "outputs": [
        {
          "output_type": "stream",
          "name": "stdout",
          "text": [
            "     A  mean\n",
            "0    1  22.2\n",
            "1    2  22.2\n",
            "2    3  22.2\n",
            "3  100  22.2\n",
            "4    5  22.2\n"
          ]
        }
      ]
    },
    {
      "cell_type": "code",
      "source": [
        "df['std'] = df['A'].std()\n",
        "print(df)"
      ],
      "metadata": {
        "colab": {
          "base_uri": "https://localhost:8080/"
        },
        "id": "80IRSgf_rqvz",
        "outputId": "d42db181-c66b-4d16-b6f6-467b2a3bd995"
      },
      "execution_count": null,
      "outputs": [
        {
          "output_type": "stream",
          "name": "stdout",
          "text": [
            "     A  mean        std\n",
            "0    1  22.2  43.516663\n",
            "1    2  22.2  43.516663\n",
            "2    3  22.2  43.516663\n",
            "3  100  22.2  43.516663\n",
            "4    5  22.2  43.516663\n"
          ]
        }
      ]
    },
    {
      "cell_type": "code",
      "source": [
        "df['low'] = df['A'].apply(lambda x:df['A'].mean() - 3*df['A'].std())\n",
        "df['high'] = df['A'].apply(lambda x:df['A'].mean() + 3*df['A'].std())\n",
        "print(df)"
      ],
      "metadata": {
        "colab": {
          "base_uri": "https://localhost:8080/"
        },
        "id": "eUj9enF0tmnk",
        "outputId": "0441a3d8-a220-4072-c2c7-601a82922f92"
      },
      "execution_count": null,
      "outputs": [
        {
          "output_type": "stream",
          "name": "stdout",
          "text": [
            "     A  mean        std        low       high\n",
            "0    1  22.2  43.516663 -108.34999  152.74999\n",
            "1    2  22.2  43.516663 -108.34999  152.74999\n",
            "2    3  22.2  43.516663 -108.34999  152.74999\n",
            "3  100  22.2  43.516663 -108.34999  152.74999\n",
            "4    5  22.2  43.516663 -108.34999  152.74999\n"
          ]
        }
      ]
    }
  ]
}