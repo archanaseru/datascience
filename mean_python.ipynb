{
  "nbformat": 4,
  "nbformat_minor": 0,
  "metadata": {
    "colab": {
      "provenance": [],
      "include_colab_link": true
    },
    "kernelspec": {
      "name": "python3",
      "display_name": "Python 3"
    },
    "language_info": {
      "name": "python"
    }
  },
  "cells": [
    {
      "cell_type": "markdown",
      "metadata": {
        "id": "view-in-github",
        "colab_type": "text"
      },
      "source": [
        "<a href=\"https://colab.research.google.com/github/archanaseru/datascience/blob/main/mean_python.ipynb\" target=\"_parent\"><img src=\"https://colab.research.google.com/assets/colab-badge.svg\" alt=\"Open In Colab\"/></a>"
      ]
    },
    {
      "cell_type": "code",
      "execution_count": null,
      "metadata": {
        "colab": {
          "base_uri": "https://localhost:8080/"
        },
        "id": "mXLDpZAIbTMF",
        "outputId": "e81a5414-4188-4de3-9c41-a4eff3d35b49"
      },
      "outputs": [
        {
          "output_type": "execute_result",
          "data": {
            "text/plain": [
              "7"
            ]
          },
          "metadata": {},
          "execution_count": 1
        }
      ],
      "source": [
        "x = [10,20,30,40,50,60,70]\n",
        "len(x)\n"
      ]
    },
    {
      "cell_type": "code",
      "source": [
        "tot = sum(x)\n",
        "cnt = len(x)\n",
        "am = tot/cnt\n",
        "print(\"Arithmetic mean \", am)\n"
      ],
      "metadata": {
        "colab": {
          "base_uri": "https://localhost:8080/"
        },
        "id": "sphWFdG2bfi9",
        "outputId": "444a6638-7b0f-4ba5-9f66-b6a1b429f580"
      },
      "execution_count": null,
      "outputs": [
        {
          "output_type": "stream",
          "name": "stdout",
          "text": [
            "Arithmetic mean  40.0\n"
          ]
        }
      ]
    },
    {
      "cell_type": "code",
      "source": [
        "def amean(x):\n",
        "   return sum(x)/len(x)"
      ],
      "metadata": {
        "id": "aydHIFZqcHF6"
      },
      "execution_count": null,
      "outputs": []
    },
    {
      "cell_type": "code",
      "source": [
        "amean(x)"
      ],
      "metadata": {
        "colab": {
          "base_uri": "https://localhost:8080/"
        },
        "id": "FVn7lHOjcOrq",
        "outputId": "dab325c8-e747-4d44-bf91-9f1d3d02ce00"
      },
      "execution_count": null,
      "outputs": [
        {
          "output_type": "execute_result",
          "data": {
            "text/plain": [
              "40.0"
            ]
          },
          "metadata": {},
          "execution_count": 7
        }
      ]
    },
    {
      "cell_type": "code",
      "source": [
        "x"
      ],
      "metadata": {
        "colab": {
          "base_uri": "https://localhost:8080/"
        },
        "id": "vpaeHCIpdBL3",
        "outputId": "596f7efc-cc08-4718-cc90-5ed56e5abd4a"
      },
      "execution_count": null,
      "outputs": [
        {
          "output_type": "execute_result",
          "data": {
            "text/plain": [
              "[10, 20, 30, 40, 50, 60, 70]"
            ]
          },
          "metadata": {},
          "execution_count": 8
        }
      ]
    },
    {
      "cell_type": "code",
      "source": [
        "n = len(x)\n",
        "m = 1\n",
        "for v in x:\n",
        "   m *= v\n",
        "print(m**(1/n))\n"
      ],
      "metadata": {
        "colab": {
          "base_uri": "https://localhost:8080/"
        },
        "id": "XYcQSG5AdDq_",
        "outputId": "d6b7a2de-3839-48ed-9b4f-6f6fc323197b"
      },
      "execution_count": null,
      "outputs": [
        {
          "output_type": "stream",
          "name": "stdout",
          "text": [
            "33.800151591412956\n"
          ]
        }
      ]
    },
    {
      "cell_type": "code",
      "source": [
        "def gmean(x):\n",
        "   n = len(x)\n",
        "   m = 1\n",
        "   for v in x:\n",
        "      m *= v\n",
        "   gm = m**(1/n)\n",
        "   return gm\n"
      ],
      "metadata": {
        "id": "8XCh5qCxdbwV"
      },
      "execution_count": null,
      "outputs": []
    },
    {
      "cell_type": "code",
      "source": [
        "gmean(x)"
      ],
      "metadata": {
        "colab": {
          "base_uri": "https://localhost:8080/"
        },
        "id": "r6SlyABrdq1Z",
        "outputId": "28d8dd43-4420-47d6-a2e5-da57309fd125"
      },
      "execution_count": null,
      "outputs": [
        {
          "output_type": "execute_result",
          "data": {
            "text/plain": [
              "33.800151591412956"
            ]
          },
          "metadata": {},
          "execution_count": 12
        }
      ]
    },
    {
      "cell_type": "code",
      "source": [
        "x"
      ],
      "metadata": {
        "colab": {
          "base_uri": "https://localhost:8080/"
        },
        "id": "gKD4FjvfeWOu",
        "outputId": "ddeaaa32-9af8-40f8-a9aa-2cddd2abdbf3"
      },
      "execution_count": null,
      "outputs": [
        {
          "output_type": "execute_result",
          "data": {
            "text/plain": [
              "[10, 20, 30, 40, 50, 60, 70]"
            ]
          },
          "metadata": {},
          "execution_count": 13
        }
      ]
    },
    {
      "cell_type": "code",
      "source": [
        "n = len(x)\n",
        "ix = [1/v for v in x]\n",
        "s = sum(ix)\n",
        "hm = n/s\n",
        "print(hm)"
      ],
      "metadata": {
        "colab": {
          "base_uri": "https://localhost:8080/"
        },
        "id": "Ou_97IWWeaB7",
        "outputId": "d1e91667-609c-4d05-cc1a-e57538090b1f"
      },
      "execution_count": null,
      "outputs": [
        {
          "output_type": "stream",
          "name": "stdout",
          "text": [
            "26.99724517906336\n"
          ]
        }
      ]
    },
    {
      "cell_type": "code",
      "source": [
        "def hmean(x):\n",
        "  n = len(x)\n",
        "  ix = [1/v for v in x]\n",
        "  s = sum(ix)\n",
        "  return n/s\n"
      ],
      "metadata": {
        "id": "hlk_Eq75e7mi"
      },
      "execution_count": null,
      "outputs": []
    },
    {
      "cell_type": "code",
      "source": [
        "hmean(x)\n"
      ],
      "metadata": {
        "colab": {
          "base_uri": "https://localhost:8080/"
        },
        "id": "5dTsVPyhfL9u",
        "outputId": "a86941b5-ad99-4d3a-d1f5-af4e64b3722e"
      },
      "execution_count": null,
      "outputs": [
        {
          "output_type": "execute_result",
          "data": {
            "text/plain": [
              "26.99724517906336"
            ]
          },
          "metadata": {},
          "execution_count": 17
        }
      ]
    },
    {
      "cell_type": "code",
      "source": [
        "am = amean(x)\n",
        "gm = gmean(x)\n",
        "hm = hmean(x)\n",
        "\n",
        "mean = (am, gm, hm)\n",
        "print(mean)"
      ],
      "metadata": {
        "colab": {
          "base_uri": "https://localhost:8080/"
        },
        "id": "D2d_OCDgfiMf",
        "outputId": "89064a80-1084-4031-fca4-2ebf64c742f2"
      },
      "execution_count": null,
      "outputs": [
        {
          "output_type": "stream",
          "name": "stdout",
          "text": [
            "(40.0, 33.800151591412956, 26.99724517906336)\n"
          ]
        }
      ]
    }
  ]
}