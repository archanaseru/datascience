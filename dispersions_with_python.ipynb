{
  "nbformat": 4,
  "nbformat_minor": 0,
  "metadata": {
    "colab": {
      "provenance": []
    },
    "kernelspec": {
      "name": "python3",
      "display_name": "Python 3"
    },
    "language_info": {
      "name": "python"
    }
  },
  "cells": [
    {
      "cell_type": "code",
      "execution_count": null,
      "metadata": {
        "colab": {
          "base_uri": "https://localhost:8080/"
        },
        "id": "FsD046xD2BJk",
        "outputId": "7c5cbb03-cd2d-4f06-8acd-eb1c2a904624"
      },
      "outputs": [
        {
          "output_type": "execute_result",
          "data": {
            "text/plain": [
              "numpy.ndarray"
            ]
          },
          "metadata": {},
          "execution_count": 1
        }
      ],
      "source": [
        "x = [10,20,30,45,50,65]\n",
        "import numpy as np\n",
        "X = np.array(x)\n",
        "type(X)"
      ]
    },
    {
      "cell_type": "code",
      "source": [
        "xbar = X.mean()\n",
        "xbar"
      ],
      "metadata": {
        "colab": {
          "base_uri": "https://localhost:8080/"
        },
        "id": "a7xECBTi2UGM",
        "outputId": "80e69381-0f8a-4ed7-cce1-16e60d4b0c4a"
      },
      "execution_count": null,
      "outputs": [
        {
          "output_type": "execute_result",
          "data": {
            "text/plain": [
              "36.666666666666664"
            ]
          },
          "metadata": {},
          "execution_count": 2
        }
      ]
    },
    {
      "cell_type": "code",
      "source": [
        "dev = X - xbar\n",
        "dev"
      ],
      "metadata": {
        "colab": {
          "base_uri": "https://localhost:8080/"
        },
        "id": "QhV-7zo82eFX",
        "outputId": "85eeb48d-304a-402f-b3b5-c42658507127"
      },
      "execution_count": null,
      "outputs": [
        {
          "output_type": "execute_result",
          "data": {
            "text/plain": [
              "array([-26.66666667, -16.66666667,  -6.66666667,   8.33333333,\n",
              "        13.33333333,  28.33333333])"
            ]
          },
          "metadata": {},
          "execution_count": 3
        }
      ]
    },
    {
      "cell_type": "code",
      "source": [
        "devsq = dev ** 2\n",
        "devsq"
      ],
      "metadata": {
        "colab": {
          "base_uri": "https://localhost:8080/"
        },
        "id": "KGFmpKZ92oLx",
        "outputId": "7e1e942b-bbec-4eeb-adb0-d6ed499f4b5b"
      },
      "execution_count": null,
      "outputs": [
        {
          "output_type": "execute_result",
          "data": {
            "text/plain": [
              "array([711.11111111, 277.77777778,  44.44444444,  69.44444444,\n",
              "       177.77777778, 802.77777778])"
            ]
          },
          "metadata": {},
          "execution_count": 4
        }
      ]
    },
    {
      "cell_type": "code",
      "source": [
        "sum_dsq = devsq.sum()\n",
        "sum_dsq"
      ],
      "metadata": {
        "colab": {
          "base_uri": "https://localhost:8080/"
        },
        "id": "dg-N8g_s24D-",
        "outputId": "f3a20562-bccc-421e-8aea-ffe542bcde1f"
      },
      "execution_count": null,
      "outputs": [
        {
          "output_type": "execute_result",
          "data": {
            "text/plain": [
              "2083.3333333333335"
            ]
          },
          "metadata": {},
          "execution_count": 5
        }
      ]
    },
    {
      "cell_type": "code",
      "source": [
        "n = X.size\n",
        "n"
      ],
      "metadata": {
        "colab": {
          "base_uri": "https://localhost:8080/"
        },
        "id": "yWPN-bPq3Awu",
        "outputId": "296e7fac-539c-409d-d54b-2da64d2f1f4d"
      },
      "execution_count": null,
      "outputs": [
        {
          "output_type": "execute_result",
          "data": {
            "text/plain": [
              "6"
            ]
          },
          "metadata": {},
          "execution_count": 6
        }
      ]
    },
    {
      "cell_type": "code",
      "source": [
        "vpop = sum_dsq/n\n",
        "vsamp = sum_dsq/(n-1)\n",
        "print(vpop)\n",
        "print(vsamp)"
      ],
      "metadata": {
        "colab": {
          "base_uri": "https://localhost:8080/"
        },
        "id": "8KLyi0pB3LlQ",
        "outputId": "957e4ff2-b0e1-4d26-b1a0-a4129307541c"
      },
      "execution_count": null,
      "outputs": [
        {
          "output_type": "stream",
          "name": "stdout",
          "text": [
            "347.22222222222223\n",
            "416.6666666666667\n"
          ]
        }
      ]
    },
    {
      "cell_type": "code",
      "source": [
        "def vpop(x):\n",
        "   x = np.array(x)\n",
        "   dev = x - x.mean()\n",
        "   dsq = dev**2\n",
        "   sum_dsq = dsq.sum()\n",
        "   n = x.size\n",
        "   v = sum_dsq/n\n",
        "   return v\n"
      ],
      "metadata": {
        "id": "U8SiI6XK3a1o"
      },
      "execution_count": null,
      "outputs": []
    },
    {
      "cell_type": "code",
      "source": [
        "def vsamp(x):\n",
        "   x = np.array(x)\n",
        "   dev = x - x.mean()\n",
        "   dsq = dev**2\n",
        "   sum_dsq = dsq.sum()\n",
        "   n = x.size\n",
        "   v = sum_dsq/(n-1)\n",
        "   return v\n"
      ],
      "metadata": {
        "id": "GzOkcGOw30st"
      },
      "execution_count": null,
      "outputs": []
    },
    {
      "cell_type": "code",
      "source": [
        "sachin = [100, 90, 110, 30, 40, 120, 0, 80]\n",
        "gangooly = [0, 10, 150, 90, 30, 180, 50, 70]\n",
        "\n",
        "print(\" Sachin variance \", vsamp(sachin))\n",
        "print(\" Gangooly variance \", vsamp(gangooly))\n"
      ],
      "metadata": {
        "colab": {
          "base_uri": "https://localhost:8080/"
        },
        "id": "BDXL8XC339wD",
        "outputId": "c58843a9-eb0e-4091-bc6a-59eb3d719d8a"
      },
      "execution_count": null,
      "outputs": [
        {
          "output_type": "stream",
          "name": "stdout",
          "text": [
            " Sachin variance  1841.0714285714287\n",
            " Gangooly variance  4192.857142857143\n"
          ]
        }
      ]
    },
    {
      "cell_type": "code",
      "source": [
        "# stock price returns.\n",
        "\n",
        "ibm = [1, 3, 2, 5, 4]\n",
        "infy = [10, 0, 20, 40, 1]\n",
        "print(\" variance of ibm \", vsamp(ibm))\n",
        "print(\" variance of infy \", vsamp(infy))\n"
      ],
      "metadata": {
        "colab": {
          "base_uri": "https://localhost:8080/"
        },
        "id": "G2yyFTbP4n43",
        "outputId": "e821a9a9-7bfb-4814-983d-715f3e989797"
      },
      "execution_count": null,
      "outputs": [
        {
          "output_type": "stream",
          "name": "stdout",
          "text": [
            " variance of ibm  2.5\n",
            " variance of infy  273.2\n"
          ]
        }
      ]
    },
    {
      "cell_type": "code",
      "source": [
        "def sdpop(x):\n",
        "   x = np.array(x)\n",
        "   return vpop(x)**0.5\n",
        "\n"
      ],
      "metadata": {
        "id": "QyeNH9zV6kmk"
      },
      "execution_count": null,
      "outputs": []
    },
    {
      "cell_type": "code",
      "source": [
        "def sdsamp(x):\n",
        "   x = np.array(x)\n",
        "   return vsamp(x)**0.5\n"
      ],
      "metadata": {
        "id": "bvcq15WD6wIY"
      },
      "execution_count": null,
      "outputs": []
    },
    {
      "cell_type": "code",
      "source": [
        "print(sdsamp(sachin))\n",
        "print(sdsamp(gangooly))\n"
      ],
      "metadata": {
        "colab": {
          "base_uri": "https://localhost:8080/"
        },
        "id": "qa0Zk3lF67ID",
        "outputId": "34bf9541-befb-49d0-8282-dcadaf8ed871"
      },
      "execution_count": null,
      "outputs": [
        {
          "output_type": "stream",
          "name": "stdout",
          "text": [
            "42.90770826519903\n",
            "64.75227519444505\n"
          ]
        }
      ]
    },
    {
      "cell_type": "code",
      "source": [
        "print(sdsamp(ibm))\n",
        "print(sdsamp(infy))\n"
      ],
      "metadata": {
        "colab": {
          "base_uri": "https://localhost:8080/"
        },
        "id": "3bcDsffp7FQ3",
        "outputId": "1c3cecbf-3c39-4bea-dcf4-fba612eceb2b"
      },
      "execution_count": null,
      "outputs": [
        {
          "output_type": "stream",
          "name": "stdout",
          "text": [
            "1.5811388300841898\n",
            "16.52876280911551\n"
          ]
        }
      ]
    },
    {
      "cell_type": "code",
      "source": [
        "# sachin\n",
        "mean_sachin = np.mean(sachin)\n",
        "mean_sachin"
      ],
      "metadata": {
        "colab": {
          "base_uri": "https://localhost:8080/"
        },
        "id": "whncvgDU7T5e",
        "outputId": "aa8cf90e-1366-458e-895b-b17c4c4f3cfa"
      },
      "execution_count": null,
      "outputs": [
        {
          "output_type": "execute_result",
          "data": {
            "text/plain": [
              "71.25"
            ]
          },
          "metadata": {},
          "execution_count": 16
        }
      ]
    },
    {
      "cell_type": "code",
      "source": [
        "# sd\n",
        "sd_sachin  = sdsamp(sachin)\n",
        "sd_sachin"
      ],
      "metadata": {
        "colab": {
          "base_uri": "https://localhost:8080/"
        },
        "id": "6mYhc6eD7fUy",
        "outputId": "b6e25d15-9435-41ba-fe52-df616a35b73b"
      },
      "execution_count": null,
      "outputs": [
        {
          "output_type": "execute_result",
          "data": {
            "text/plain": [
              "42.90770826519903"
            ]
          },
          "metadata": {},
          "execution_count": 18
        }
      ]
    },
    {
      "cell_type": "code",
      "source": [
        "# fluctuating range:\n",
        "low_range = mean_sachin - sd_sachin\n",
        "high_range = mean_sachin + sd_sachin\n",
        "print(int(low_range), int(high_range))"
      ],
      "metadata": {
        "colab": {
          "base_uri": "https://localhost:8080/"
        },
        "id": "P29fTpkT7trc",
        "outputId": "1c539b2e-ba0e-412b-f915-5be2326f56d3"
      },
      "execution_count": null,
      "outputs": [
        {
          "output_type": "stream",
          "name": "stdout",
          "text": [
            "28 114\n"
          ]
        }
      ]
    },
    {
      "cell_type": "code",
      "source": [
        "mean_gang = np.mean(gangooly)\n",
        "sd_gang = sdsamp(gangooly)\n",
        "low_range = mean_gang - sd_gang\n",
        "high_range = mean_gang + sd_gang\n",
        "print(int(low_range) , int(high_range))\n"
      ],
      "metadata": {
        "colab": {
          "base_uri": "https://localhost:8080/"
        },
        "id": "Ok_WYa578Vhc",
        "outputId": "6249d75d-ccd7-412b-f0f5-d7198de2f037"
      },
      "execution_count": null,
      "outputs": [
        {
          "output_type": "stream",
          "name": "stdout",
          "text": [
            "7 137\n"
          ]
        }
      ]
    }
  ]
}